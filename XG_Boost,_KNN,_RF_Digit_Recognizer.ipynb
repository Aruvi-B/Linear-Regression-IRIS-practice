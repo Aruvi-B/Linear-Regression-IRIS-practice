{
  "cells": [
    {
      "cell_type": "markdown",
      "metadata": {
        "id": "view-in-github",
        "colab_type": "text"
      },
      "source": [
        "<a href=\"https://colab.research.google.com/github/Aruvi-B/Machine-Learning/blob/main/XG_Boost%2C_KNN%2C_RF_Digit_Recognizer.ipynb\" target=\"_parent\"><img src=\"https://colab.research.google.com/assets/colab-badge.svg\" alt=\"Open In Colab\"/></a>"
      ]
    },
    {
      "cell_type": "code",
      "execution_count": 76,
      "metadata": {
        "id": "CwD2ycJlUShx"
      },
      "outputs": [],
      "source": [
        "import numpy as np\n",
        "import pandas as pd\n",
        "import matplotlib.pyplot as plt\n",
        "import seaborn as sns\n",
        "from sklearn.model_selection import train_test_split\n",
        "from sklearn.preprocessing import MinMaxScaler, StandardScaler\n",
        "from sklearn.metrics import accuracy_score, classification_report, confusion_matrix"
      ]
    },
    {
      "cell_type": "code",
      "execution_count": 77,
      "metadata": {
        "id": "rf1LhnGuU0N8"
      },
      "outputs": [],
      "source": [
        "df_train = pd.read_csv(\"/content/train.csv\")\n",
        "df_test = pd.read_csv(\"/content/test.csv\")"
      ]
    },
    {
      "cell_type": "code",
      "execution_count": 78,
      "metadata": {
        "id": "f6DE-Bm8VM-9",
        "colab": {
          "base_uri": "https://localhost:8080/"
        },
        "outputId": "12fad65c-4da5-4257-e8dd-e7c7b62e1596"
      },
      "outputs": [
        {
          "output_type": "stream",
          "name": "stdout",
          "text": [
            "(42000, 785)\n",
            "(28000, 784)\n"
          ]
        }
      ],
      "source": [
        "print(df_train.shape)\n",
        "print(df_test.shape)"
      ]
    },
    {
      "cell_type": "code",
      "execution_count": 79,
      "metadata": {
        "id": "4v-2SuK3VWoa",
        "colab": {
          "base_uri": "https://localhost:8080/"
        },
        "outputId": "35231612-437d-474e-ffae-411224ce3225"
      },
      "outputs": [
        {
          "output_type": "stream",
          "name": "stdout",
          "text": [
            "Train Columns:  Index(['label', 'pixel0', 'pixel1', 'pixel2', 'pixel3', 'pixel4', 'pixel5',\n",
            "       'pixel6', 'pixel7', 'pixel8',\n",
            "       ...\n",
            "       'pixel774', 'pixel775', 'pixel776', 'pixel777', 'pixel778', 'pixel779',\n",
            "       'pixel780', 'pixel781', 'pixel782', 'pixel783'],\n",
            "      dtype='object', length=785)\n",
            "____________________________________________________________________________________________________\n",
            "Test Columns:  Index(['pixel0', 'pixel1', 'pixel2', 'pixel3', 'pixel4', 'pixel5', 'pixel6',\n",
            "       'pixel7', 'pixel8', 'pixel9',\n",
            "       ...\n",
            "       'pixel774', 'pixel775', 'pixel776', 'pixel777', 'pixel778', 'pixel779',\n",
            "       'pixel780', 'pixel781', 'pixel782', 'pixel783'],\n",
            "      dtype='object', length=784)\n"
          ]
        }
      ],
      "source": [
        "print(\"Train Columns: \", df_train.columns)\n",
        "print(\"_\"*100)\n",
        "print(\"Test Columns: \", df_test.columns)"
      ]
    },
    {
      "cell_type": "code",
      "execution_count": 80,
      "metadata": {
        "id": "pwfBWbWYYw4Y"
      },
      "outputs": [],
      "source": [
        "for i in df_train.columns:\n",
        "  if df_train[i].isnull().any():\n",
        "    print(df_train[i])"
      ]
    },
    {
      "cell_type": "code",
      "execution_count": 81,
      "metadata": {
        "id": "GPI4ruqKZFwC"
      },
      "outputs": [],
      "source": [
        "for i in df_test.columns:\n",
        "  if df_test[i].isnull().any():\n",
        "    print(df_test[i])"
      ]
    },
    {
      "cell_type": "code",
      "execution_count": 82,
      "metadata": {
        "id": "qGXzrQ7ba2Z5",
        "colab": {
          "base_uri": "https://localhost:8080/"
        },
        "outputId": "968ef080-8273-43da-e313-4c5732ac2544"
      },
      "outputs": [
        {
          "output_type": "stream",
          "name": "stdout",
          "text": [
            "(42000, 785)\n",
            "X: (42000, 784)\n"
          ]
        }
      ],
      "source": [
        "X = df_train.drop(columns = 'label')\n",
        "y = df_train['label']\n",
        "\n",
        "print(df_train.shape)\n",
        "\n",
        "X = X/255.0\n",
        "print(\"X:\", X.shape)"
      ]
    },
    {
      "cell_type": "code",
      "execution_count": 83,
      "metadata": {
        "id": "4mLH-LOyjl7k"
      },
      "outputs": [],
      "source": [
        "scaler = MinMaxScaler()\n",
        "X_scale = scaler.fit_transform(X)\n",
        "X_train, X_test, y_train, y_test = train_test_split(X_scale,y,train_size=0.8)"
      ]
    },
    {
      "cell_type": "code",
      "execution_count": 84,
      "metadata": {
        "id": "rdiYhpn_iNUl",
        "colab": {
          "base_uri": "https://localhost:8080/"
        },
        "outputId": "eb4f3a8e-f969-4c1a-fb65-d831eb123100"
      },
      "outputs": [
        {
          "output_type": "stream",
          "name": "stdout",
          "text": [
            "Total 42000\n",
            "Train size  33600\n",
            "Test size  8400\n"
          ]
        }
      ],
      "source": [
        "print(\"Total\", len(X))\n",
        "print(\"Train size \", len(X_train))\n",
        "print(\"Test size \", len(X_test))"
      ]
    },
    {
      "cell_type": "code",
      "execution_count": 85,
      "metadata": {
        "colab": {
          "base_uri": "https://localhost:8080/"
        },
        "id": "WJC7bAYZxB14",
        "outputId": "5387008a-3967-4616-fdb4-46fdd700552a"
      },
      "outputs": [
        {
          "output_type": "stream",
          "name": "stdout",
          "text": [
            "XGBoost Accuracy:  0.9719047619047619\n",
            "              precision    recall  f1-score   support\n",
            "\n",
            "           0       0.98      0.99      0.98       808\n",
            "           1       0.99      0.98      0.99       907\n",
            "           2       0.97      0.97      0.97       829\n",
            "           3       0.98      0.95      0.97       905\n",
            "           4       0.96      0.98      0.97       803\n",
            "           5       0.98      0.96      0.97       795\n",
            "           6       0.97      0.98      0.98       804\n",
            "           7       0.97      0.97      0.97       896\n",
            "           8       0.97      0.98      0.97       801\n",
            "           9       0.95      0.96      0.95       852\n",
            "\n",
            "    accuracy                           0.97      8400\n",
            "   macro avg       0.97      0.97      0.97      8400\n",
            "weighted avg       0.97      0.97      0.97      8400\n",
            "\n"
          ]
        }
      ],
      "source": [
        "# XG Boost\n",
        "from xgboost import XGBClassifier\n",
        "xgb = XGBClassifier()\n",
        "xgb.fit(X_train, y_train)\n",
        "y_pred_xgb = xgb.predict(X_test)\n",
        "print(\"XGBoost Accuracy: \", accuracy_score(y_test, y_pred_xgb))\n",
        "print(classification_report(y_test, y_pred_xgb))"
      ]
    },
    {
      "cell_type": "code",
      "execution_count": 86,
      "metadata": {
        "id": "pUfL5bonw_53",
        "colab": {
          "base_uri": "https://localhost:8080/"
        },
        "outputId": "bd7ed49e-5fbd-4bec-bb68-26fc3f3942f6"
      },
      "outputs": [
        {
          "output_type": "stream",
          "name": "stdout",
          "text": [
            "KNN Accuracy:  0.9646428571428571\n",
            "              precision    recall  f1-score   support\n",
            "\n",
            "           0       0.97      0.99      0.98       808\n",
            "           1       0.95      0.99      0.97       907\n",
            "           2       0.99      0.96      0.97       829\n",
            "           3       0.96      0.97      0.97       905\n",
            "           4       0.97      0.95      0.96       803\n",
            "           5       0.97      0.96      0.96       795\n",
            "           6       0.97      0.98      0.98       804\n",
            "           7       0.96      0.97      0.96       896\n",
            "           8       0.99      0.92      0.95       801\n",
            "           9       0.93      0.96      0.94       852\n",
            "\n",
            "    accuracy                           0.96      8400\n",
            "   macro avg       0.97      0.96      0.96      8400\n",
            "weighted avg       0.97      0.96      0.96      8400\n",
            "\n"
          ]
        }
      ],
      "source": [
        "# KNN\n",
        "from sklearn.neighbors import KNeighborsClassifier\n",
        "knn = KNeighborsClassifier(n_neighbors = 5)\n",
        "knn.fit(X_train, y_train)\n",
        "y_pred_knn = knn.predict(X_test)\n",
        "print(\"KNN Accuracy: \", accuracy_score(y_test, y_pred_knn))\n",
        "print(classification_report(y_test, y_pred_knn))"
      ]
    },
    {
      "cell_type": "code",
      "execution_count": 87,
      "metadata": {
        "id": "heWdH5btxA4Q",
        "colab": {
          "base_uri": "https://localhost:8080/"
        },
        "outputId": "874e9632-3832-4d15-e27e-de7e57dedd90"
      },
      "outputs": [
        {
          "output_type": "stream",
          "name": "stdout",
          "text": [
            "Random Forest Accuracy:  0.9633333333333334\n",
            "              precision    recall  f1-score   support\n",
            "\n",
            "           0       0.97      0.98      0.98       808\n",
            "           1       0.99      0.98      0.99       907\n",
            "           2       0.96      0.97      0.96       829\n",
            "           3       0.96      0.94      0.95       905\n",
            "           4       0.96      0.97      0.96       803\n",
            "           5       0.97      0.96      0.96       795\n",
            "           6       0.96      0.98      0.97       804\n",
            "           7       0.97      0.97      0.97       896\n",
            "           8       0.95      0.95      0.95       801\n",
            "           9       0.94      0.94      0.94       852\n",
            "\n",
            "    accuracy                           0.96      8400\n",
            "   macro avg       0.96      0.96      0.96      8400\n",
            "weighted avg       0.96      0.96      0.96      8400\n",
            "\n"
          ]
        }
      ],
      "source": [
        "# Random Forest\n",
        "from sklearn.ensemble import RandomForestClassifier\n",
        "rf = RandomForestClassifier(n_estimators = 100)\n",
        "rf.fit(X_train, y_train)\n",
        "y_pred_rf = rf.predict(X_test)\n",
        "print(\"Random Forest Accuracy: \", accuracy_score(y_test, y_pred_rf))\n",
        "print(classification_report(y_test, y_pred_rf))"
      ]
    }
  ],
  "metadata": {
    "accelerator": "TPU",
    "colab": {
      "provenance": [],
      "authorship_tag": "ABX9TyM6AdkbZkgsH/E2wmPO8qTf",
      "include_colab_link": true
    },
    "kernelspec": {
      "display_name": "Python 3",
      "name": "python3"
    },
    "language_info": {
      "name": "python"
    }
  },
  "nbformat": 4,
  "nbformat_minor": 0
}